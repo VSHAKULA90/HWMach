{
  "nbformat": 4,
  "nbformat_minor": 0,
  "metadata": {
    "colab": {
      "provenance": [],
      "collapsed_sections": []
    },
    "kernelspec": {
      "name": "python3",
      "display_name": "Python 3"
    },
    "language_info": {
      "name": "python"
    }
  },
  "cells": [
    {
      "cell_type": "markdown",
      "source": [
        "##Домашнее задание к лекции \"Основы Python\""
      ],
      "metadata": {
        "id": "wX3Kf4GTkRD-"
      }
    },
    {
      "cell_type": "markdown",
      "source": [
        "#Задание 1\n",
        "Даны 2 переменных, в которых хранятся строки произвольной длины: phrase_1 и phrase_2/\n",
        "\n",
        "*Нужно сравнить длину каждых переменных, в 3х вариантах.*"
      ],
      "metadata": {
        "id": "C3bYiwXDkUKF"
      }
    },
    {
      "cell_type": "code",
      "source": [
        "#Переменные\n",
        "phrase_1 = 'Насколько проще было бы писать программы, если бы не заказчики'\n",
        "phrase_2 = '640Кб должно хватить для любых задач. Билл Гейтс (по легенде)'\n",
        "\n",
        "#Сравнение по условию\n",
        "if len(phrase_1)>len(phrase_2):\n",
        "  print(\"Фраза 1 длиннее фразы 2\")\n",
        "elif len(phrase_1)<len(phrase_2):\n",
        "  print(\"Фраза 2 длиннее фразы 1\")\n",
        "else:\n",
        "  print(\"Фразы равной длины\")\n"
      ],
      "metadata": {
        "colab": {
          "base_uri": "https://localhost:8080/"
        },
        "id": "-7ugjg5bkQ2-",
        "outputId": "ddaea0c4-d69f-4708-e297-3052a741de9a"
      },
      "execution_count": null,
      "outputs": [
        {
          "output_type": "stream",
          "name": "stdout",
          "text": [
            "Фраза 1 длиннее фразы 2\n"
          ]
        }
      ]
    },
    {
      "cell_type": "code",
      "execution_count": null,
      "metadata": {
        "colab": {
          "base_uri": "https://localhost:8080/"
        },
        "id": "QwiLelgkkEJB",
        "outputId": "5fedd41c-2722-4231-fbe1-f92ffb1ca440"
      },
      "outputs": [
        {
          "output_type": "stream",
          "name": "stdout",
          "text": [
            "Фраза 2 длиннее фразы 1\n"
          ]
        }
      ],
      "source": [
        "#Переменные\n",
        "phrase_1 = '640Кб должно хватить для любых задач. Билл Гейтс (по легенде)'\n",
        "phrase_2 = 'Насколько проще было бы писать программы, если бы не заказчики'\n",
        "\n",
        "#Сравнение по условию\n",
        "if len(phrase_1)>len(phrase_2):\n",
        "  print(\"Фраза 1 длиннее фразы 2\")\n",
        "elif len(phrase_1)<len(phrase_2):\n",
        "  print(\"Фраза 2 длиннее фразы 1\")\n",
        "else:\n",
        "  print(\"Фразы равной длины\")"
      ]
    },
    {
      "cell_type": "code",
      "source": [
        "#Переменные\n",
        "phrase_1 = 'Насколько проще было бы писать программы, если бы не заказчики'\n",
        "phrase_2 = 'Насколько проще было бы писать программы, если бы не заказчики'\n",
        "\n",
        "#Сравнение по условию\n",
        "if len(phrase_1)>len(phrase_2):\n",
        "  print(\"Фраза 1 длиннее фразы 2\")\n",
        "elif len(phrase_1)<len(phrase_2):\n",
        "  print(\"Фраза 2 длиннее фразы 1\")\n",
        "else:\n",
        "  print(\"Фразы равной длины\")"
      ],
      "metadata": {
        "colab": {
          "base_uri": "https://localhost:8080/"
        },
        "id": "gT90fhiznmBG",
        "outputId": "2ad9bbf0-98d4-4f0d-d128-aa29ba636051"
      },
      "execution_count": null,
      "outputs": [
        {
          "output_type": "stream",
          "name": "stdout",
          "text": [
            "Фразы равной длины\n"
          ]
        }
      ]
    },
    {
      "cell_type": "markdown",
      "source": [
        "#Задание 2\n",
        "Дана переменная, в которой хранится число (год). \n",
        "\n",
        "*Необходимо написать программу, которая выведет, является ли данный год високосным или обычным.*"
      ],
      "metadata": {
        "id": "lO09jLr2kavd"
      }
    },
    {
      "cell_type": "markdown",
      "source": [
        "\n",
        "> годы, номер которых кратен 4 и 400 — високосный  \n",
        "\n",
        "> остальные годы, номер которых не кратен 100, — невисокосные \n",
        "\n",
        "\n"
      ],
      "metadata": {
        "id": "8olo9AWPsY2c"
      }
    },
    {
      "cell_type": "code",
      "source": [
        "#Переменная года\n",
        "year = 2020\n",
        "\n",
        "#Сравнение по условию\n",
        "if year % 4 == 0 and year % 100 != 0 or year % 400 ==0:\n",
        " print(\"Високосный год\")\n",
        "else:\n",
        " print(\"Обычный год\")"
      ],
      "metadata": {
        "colab": {
          "base_uri": "https://localhost:8080/"
        },
        "id": "wiirSaFLkdql",
        "outputId": "14963fa3-842b-4e88-b174-00b50062ca6d"
      },
      "execution_count": null,
      "outputs": [
        {
          "output_type": "stream",
          "name": "stdout",
          "text": [
            "Високосный год\n"
          ]
        }
      ]
    },
    {
      "cell_type": "code",
      "source": [
        "#Переменная года\n",
        "year = 2019\n",
        "\n",
        "#Сравнение по условию\n",
        "if year % 4 == 0 and year % 100 != 0 or year % 400 ==0:\n",
        " print(\"Високосный год\")\n",
        "else:\n",
        " print(\"Обычный год\")"
      ],
      "metadata": {
        "colab": {
          "base_uri": "https://localhost:8080/"
        },
        "id": "aJ-P4jkKqRpV",
        "outputId": "d0de4290-0fe2-45df-8245-0f7f3175d27a"
      },
      "execution_count": null,
      "outputs": [
        {
          "output_type": "stream",
          "name": "stdout",
          "text": [
            "Обычный год\n"
          ]
        }
      ]
    },
    {
      "cell_type": "markdown",
      "source": [
        "#Задание 3\n",
        "Программа, которая запрашивает у пользователя месяц и дату рождения и выводить соответствующий знак зодиака.\n",
        "\n",
        "[гугл таблица с рачетами дат по гороскопу](https://docs.google.com/spreadsheets/d/1KMi-CTZaUDXRM97NOtpVGWArYGUDdSuM/edit?usp=sharing&ouid=100291389376223820842&rtpof=true&sd=true)"
      ],
      "metadata": {
        "id": "_AvOwC0KwvXw"
      }
    },
    {
      "cell_type": "code",
      "source": [
        "#Переменные\n",
        "date = int(input(\"Ведите дату рождения:\"))\n",
        "month = int(input(\"Введите номер месяца в который вы родились:\"))\n",
        "\n",
        "#Условия выборки\n",
        "if (date>=21 and date<=31 and month==3) or (date>=1 and date<=20 and month==4):  \n",
        "  print(\"Ваш знак зодиака: Овен\")\n",
        "elif (date>=21 and date<=30 and month==4) or (date>=1 and date<=21 and month==5):\n",
        "  print(\"Ваш знак зодиака: Телец\")\n",
        "elif (date>=22 and date<=31 and month==5) or (date>=1 and date<=21 and month==6):\n",
        "  print(\"Ваш знак зодиака: Близнецы\")\n",
        "elif (date>=22 and date<=30 and month==6) or (date>=1 and date<=22 and month==7):\n",
        "  print(\"Ваш знак зодиака: Рак\")\n",
        "elif (date>=23 and date<=31 and month==7) or (date>=1 and date<=23 and month==8):\n",
        "  print(\"Ваш знак зодиака: Лев\")\n",
        "elif (date>=24 and date<=31 and month==8) or (date>=1 and date<=22 and month==9):\n",
        "  print(\"Ваш знак зодиака: Дева\")\n",
        "elif (date>=23 and date<=30 and month==9) or (date>=1 and date<=23 and month==10):\n",
        "  print(\"Ваш знак зодиака: Весы\")\n",
        "elif (date>=24 and date<=31 and month==10) or (date>=1 and date<=22 and month==11):\n",
        "  print(\"Ваш знак зодиака: Скорпион\")\n",
        "elif (date>=23 and date<=30 and month==11) or (date>=1 and date<=21 and month==12):\n",
        "  print(\"Ваш знак зодиака: Стрелец\")\n",
        "elif (date>=22 and date<=31 and month==12) or (date>=1 and date<=20 and month==1):\n",
        "  print(\"Ваш знак зодиака: Козерог\")\n",
        "elif (date>=21 and date<=31 and month==1) or (date>=1 and date<=18 and month==2):\n",
        "  print(\"Ваш знак зодиака: Водолей\")\n",
        "elif (date>=19 and date<=28 and month==2) or (date>=1 and date<=20 and month==3):\n",
        "  print(\"Ваш знак зодиака: Рыбы\")"
      ],
      "metadata": {
        "colab": {
          "base_uri": "https://localhost:8080/"
        },
        "id": "jDJWnsB4wyAP",
        "outputId": "c9d7dd54-f3d9-4b1e-da88-6d93d33b6cce"
      },
      "execution_count": null,
      "outputs": [
        {
          "output_type": "stream",
          "name": "stdout",
          "text": [
            "Ведите дату рождения:9\n",
            "Введите номер месяца в который вы родились:3\n",
            "Ваш знак зодиака: Рыбы\n"
          ]
        }
      ]
    },
    {
      "cell_type": "markdown",
      "source": [
        "#Задание 4\n",
        "Программа для подбора упаковок по размерам товара."
      ],
      "metadata": {
        "id": "GfPH-ZRjJ41V"
      }
    },
    {
      "cell_type": "code",
      "source": [
        "#Переменные\n",
        "width = 15\n",
        "length = 50\n",
        "height = 15\n",
        "\n",
        "#Условия выборки\n",
        "if length>200:\n",
        "   print(\"Упаковка для лыж\")\n",
        "elif width<=15 and length<=15 and height<=15:\n",
        "   print(\"Коробка №1\")\n",
        "elif 15<=width>50 or 15<=length<50 or 15<=height>50:\n",
        "   print(\"Коробка №2\")\n",
        "\n",
        "else:\n",
        "   print(\"Стандартная коробка №3\")"
      ],
      "metadata": {
        "colab": {
          "base_uri": "https://localhost:8080/"
        },
        "id": "VzMUuAKmKEtp",
        "outputId": "69ddff50-47d5-4833-fa2d-64ecd04d28f6"
      },
      "execution_count": null,
      "outputs": [
        {
          "output_type": "stream",
          "name": "stdout",
          "text": [
            "Стандартная коробка №3\n"
          ]
        }
      ]
    },
    {
      "cell_type": "code",
      "source": [
        "#Переменные\n",
        "width = 45\n",
        "length = 205\n",
        "height = 45\n",
        "\n",
        "#Условия выборки\n",
        "if length>200:\n",
        "   print(\"Упаковка для лыж\")\n",
        "elif width<=15 and length<=15 and height<=15:\n",
        "   print(\"Коробка №1\")\n",
        "elif 15<=width>50 or 15<=length<50 or 15<=height>50:\n",
        "   print(\"Коробка №2\")\n",
        "\n",
        "else:\n",
        "   print(\"Стандартная коробка №3\")"
      ],
      "metadata": {
        "colab": {
          "base_uri": "https://localhost:8080/"
        },
        "id": "0p_V98yGM_1X",
        "outputId": "a5d346ef-0c54-4028-faef-c3f23f186897"
      },
      "execution_count": null,
      "outputs": [
        {
          "output_type": "stream",
          "name": "stdout",
          "text": [
            "Упаковка для лыж\n"
          ]
        }
      ]
    },
    {
      "cell_type": "markdown",
      "source": [
        "#Задание 5 (необязательное)\n",
        "Дана переменная, в которой хранится шестизначное число (номер проездного билета). Напишите программу, которая будет определять, является ли данный билет \"счастливым\". Билет считается счастливым, если сумма первых трех цифр совпадает с суммой последних трех цифр номера."
      ],
      "metadata": {
        "id": "s0Mp4fxjPDlE"
      }
    },
    {
      "cell_type": "code",
      "source": [
        "#номер билета\n",
        "number = 123456\n",
        "\n",
        "#вычесляем каждое число из билета путем целочисленного деления и взятия остатка от деления\n",
        "y1=number//1000%10\n",
        "y2=number//10000%10\n",
        "y3=number//100000\n",
        "\n",
        "y4=number//100%10\n",
        "y5=number//10%10\n",
        "y6=number//1%10\n",
        "\n",
        "#Суммируем значемния\n",
        "x2=y1+y2+y3\n",
        "x1=y4+y5+y6\n",
        "\n",
        "#условие выборки \n",
        "if x1==x2:\n",
        "  print(\"Счастливый билет\")\n",
        "else:\n",
        "  print(\"Несчастливый билет\")"
      ],
      "metadata": {
        "colab": {
          "base_uri": "https://localhost:8080/"
        },
        "id": "Ska2UGaTapqV",
        "outputId": "3186de2e-b798-4eca-e04c-44af0d2ea58d"
      },
      "execution_count": null,
      "outputs": [
        {
          "output_type": "stream",
          "name": "stdout",
          "text": [
            "Несчастливый билет\n"
          ]
        }
      ]
    },
    {
      "cell_type": "code",
      "source": [
        "#номер билета\n",
        "number = 123321\n",
        "\n",
        "#вычесляем каждое число из билета путем целочисленного деления и взятия остатка от деления\n",
        "y1=number//1000%10\n",
        "y2=number//10000%10\n",
        "y3=number//100000\n",
        "\n",
        "y4=number//100%10\n",
        "y5=number//10%10\n",
        "y6=number//1%10\n",
        "\n",
        "#Суммируем значемния\n",
        "x2=y1+y2+y3\n",
        "x1=y4+y5+y6\n",
        "\n",
        "#условие выборки \n",
        "if x1==x2:\n",
        "  print(\"Счастливый билет\")\n",
        "else:\n",
        "  print(\"Несчастливый билет\")"
      ],
      "metadata": {
        "colab": {
          "base_uri": "https://localhost:8080/"
        },
        "id": "9ZtIK9-XVXHT",
        "outputId": "1b637e0b-39c2-4395-afd3-fb846b6e5b93"
      },
      "execution_count": null,
      "outputs": [
        {
          "output_type": "stream",
          "name": "stdout",
          "text": [
            "Счастливый билет\n"
          ]
        }
      ]
    },
    {
      "cell_type": "markdown",
      "source": [
        "#Задание 6 (необязательное)\n",
        "Программа, которая сможет вычислять площади трех фигур (круг, треугольник и прямоугольник). "
      ],
      "metadata": {
        "id": "luN6MoM9a01j"
      }
    },
    {
      "cell_type": "code",
      "source": [
        "#Запрос фигуры\n",
        "figure=input(\"Введите тип фигуры(круг, треугольник и прямоугольник):\")\n",
        "\n",
        "#расчёт площади круга\n",
        "if   figure==\"круг\":\n",
        "     r=int(input(\"Введите радиус круга:\"))\n",
        "     p=3.141592\n",
        "     S1=r**2*p\n",
        "     print(S1)\n",
        "\n",
        "#расчёт площади треугольника\n",
        "elif figure==\"треугольник\":\n",
        "     a=int(input(\"Введите длину стороны 1:\"))\n",
        "     b=int(input(\"Введите длину стороны 2:\"))\n",
        "     c=int(input(\"Введите длину стороны 3:\"))\n",
        "     p=(a+b+c)/2\n",
        "     S2=(p*(p-a)*(p-b)*(p-c)) ** (0.5)\n",
        "     print(S2)\n",
        "\n",
        "#расчет площади прямоугольника\n",
        "elif figure==\"прямоугольник\":\n",
        "     a=int(input(\"Введите длину стороны 1:\"))\n",
        "     b=int(input(\"Введите длину стороны 2:\"))\n",
        "     S3=a*b\n",
        "     print(S3)\n",
        "\n",
        "#Если в запрос \"Введите тип фигуры(круг, треугольник и прямоугольник):\" ввели что-то новое.\n",
        "else:\n",
        "  print(\"Нет программы расчёта\")"
      ],
      "metadata": {
        "colab": {
          "base_uri": "https://localhost:8080/"
        },
        "id": "AXvnch-DbBY-",
        "outputId": "fce6d45e-8fcb-4b5e-c4ec-78f062375978"
      },
      "execution_count": null,
      "outputs": [
        {
          "output_type": "stream",
          "name": "stdout",
          "text": [
            "Введите тип фигуры(круг, треугольник и прямоугольник):треугольник\n",
            "Введите длину стороны 1:2\n",
            "Введите длину стороны 2:2\n",
            "Введите длину стороны 3:3\n",
            "1.984313483298443\n"
          ]
        }
      ]
    }
  ]
}
