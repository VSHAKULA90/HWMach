{
  "nbformat": 4,
  "nbformat_minor": 0,
  "metadata": {
    "colab": {
      "provenance": [],
      "collapsed_sections": []
    },
    "kernelspec": {
      "name": "python3",
      "display_name": "Python 3"
    },
    "language_info": {
      "name": "python"
    }
  },
  "cells": [
    {
      "cell_type": "code",
      "execution_count": null,
      "metadata": {
        "id": "ex2_0XxqqL2a"
      },
      "outputs": [],
      "source": [
        "import numpy as np"
      ]
    },
    {
      "cell_type": "code",
      "source": [
        "trials = 100000    # Количество попыток\n",
        "money_sheet = []  # Список для записи выиграша\n",
        "money_s = []      # Список для итоговой записи выиграша\n",
        "\n",
        "\n",
        "for i in range(trials):\n",
        "    random = np.random.randint(0, 1000)\n",
        "    if random == 999:\n",
        "      money_sheet.append(100)\n",
        "    elif random == 777:\n",
        "      money_sheet.append(200)\n",
        "    elif random == 555:\n",
        "      money_sheet.append(50)\n",
        "    elif random == 333:\n",
        "      money_sheet.append(15)\n",
        "    elif random == 111:\n",
        "      money_sheet.append(10)\n",
        "    elif random % 100 == 77:\n",
        "      money_sheet.append(5)\n",
        "    elif random % 10 == 7:\n",
        "      money_sheet.append(3)\n",
        "    elif random % 100 == 00:\n",
        "      money_sheet.append(2)\n",
        "    elif random % 10 == 0:\n",
        "      money_sheet.append(1) \n",
        "    else:\n",
        "      money_sheet.append(0)\n",
        "\n",
        "#Игрок платил 1 руб. при каждой попытке. кол-во попыток 10 000. считаем сколько выиграл\n",
        "    money_sum = sum(money_sheet) - trials\n",
        "\n",
        "#добавляем в пустой список и считаем среднее от всех игр.\n",
        "    money_s.append(money_sum)\n",
        "    avarage_money = round(sum(money_s) / trials)\n",
        "\n",
        "if money_sum > 0:\n",
        "  print('Игра выгодня игроку. Сумма:', money_sum, 'руб. с', trials, 'руб.')\n",
        "else:\n",
        "  print('Игра не выгодна игроку. Сумма:', money_sum, 'руб. с', trials, 'руб.')\n",
        "  \n",
        "\n",
        "if avarage_money > 0:\n",
        "   print('Игра выгодна. В среднем выигрыш составляет:', avarage_money, 'руб. c', trials, 'руб.')\n",
        "else:\n",
        "   print('Игра не выгодна. В среднем проигрыш составляет:', avarage_money, 'руб. c', trials, 'руб.')"
      ],
      "metadata": {
        "colab": {
          "base_uri": "https://localhost:8080/"
        },
        "id": "EF1m5rHjNhQx",
        "outputId": "52ad8238-b180-4bb5-aeb6-498c0e03197d"
      },
      "execution_count": null,
      "outputs": [
        {
          "output_type": "stream",
          "name": "stdout",
          "text": [
            "Игра не выгодна игроку. Сумма: -23302 руб. с 100000 руб.\n",
            "Игра не выгодна. В среднем проигрыш составляет: -61329 руб. c 100000 руб.\n"
          ]
        }
      ]
    }
  ]
}