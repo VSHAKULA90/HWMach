{
  "nbformat": 4,
  "nbformat_minor": 0,
  "metadata": {
    "colab": {
      "provenance": [],
      "collapsed_sections": []
    },
    "kernelspec": {
      "name": "python3",
      "display_name": "Python 3"
    },
    "language_info": {
      "name": "python"
    }
  },
  "cells": [
    {
      "cell_type": "markdown",
      "source": [
        "#Домашнее задание к лекции \"Введение в типы данных и циклы. Часть 1\""
      ],
      "metadata": {
        "id": "b9RsYUKelTuW"
      }
    },
    {
      "cell_type": "markdown",
      "source": [
        "##Задание 1\n",
        "Дана переменная, в которой хранится слово из латинских букв. Напишите код, который выводит на экран:\n",
        "\n",
        "среднюю букву, если число букв в слове нечетное;\n",
        "две средних буквы, если число букв четное."
      ],
      "metadata": {
        "id": "7BSPm2BHEoR-"
      }
    },
    {
      "cell_type": "code",
      "execution_count": null,
      "metadata": {
        "colab": {
          "base_uri": "https://localhost:8080/"
        },
        "id": "Mic6oml4EgPr",
        "outputId": "ef61de60-1d91-4128-d645-953d0382a484"
      },
      "outputs": [
        {
          "output_type": "stream",
          "name": "stdout",
          "text": [
            "es\n"
          ]
        }
      ],
      "source": [
        "#Переменная\n",
        "word = 'test'\n",
        "\n",
        "#Условие_ если число четное\n",
        "if len(word) % 2 == 0:\n",
        "\n",
        "#то_записываем a и b\n",
        "  a = int(len(word) / 2)\n",
        "  b = int(a - 1)\n",
        "  print(word[b] + word[a])\n",
        "\n",
        "#Если число нечетное\n",
        "else:\n",
        "  c = int(len(word) / 2 - 0.5)\n",
        "  print(word[c])"
      ]
    },
    {
      "cell_type": "code",
      "source": [
        "#Переменная\n",
        "word = 'testing'\n",
        "\n",
        "#Условие_ если число четное\n",
        "if len(word) % 2 == 0:\n",
        "\n",
        "#то_записываем a и b\n",
        "  a = int(len(word) / 2)\n",
        "  b = int(a - 1)\n",
        "  print(word[b] + word[a])\n",
        "\n",
        "#Если число нечетное\n",
        "else:\n",
        "  c = int(len(word) / 2 - 0.5)\n",
        "  print(word[c])"
      ],
      "metadata": {
        "colab": {
          "base_uri": "https://localhost:8080/"
        },
        "id": "XzXtHSJGV8li",
        "outputId": "7247e018-a5ed-4ece-e188-c37c3f2bc3ad"
      },
      "execution_count": null,
      "outputs": [
        {
          "output_type": "stream",
          "name": "stdout",
          "text": [
            "t\n"
          ]
        }
      ]
    },
    {
      "cell_type": "markdown",
      "source": [
        "##Задание 2\n",
        "Напишите программу, которая последовательно запрашивает у пользователя числа (по одному за раз) и после первого нуля выводит сумму всех ранее введенных чисел."
      ],
      "metadata": {
        "id": "fx9cunX8WEjF"
      }
    },
    {
      "cell_type": "code",
      "source": [
        "#присваиваем значeние переменным\n",
        "a = 0\n",
        "b = 0\n",
        "\n",
        "#пока истина выполнить условие\n",
        "while True:\n",
        "  a = int(input('Введите число:'))\n",
        "  if a == 0:\n",
        "    break\n",
        "  else:\n",
        "    b += a\n",
        "print(b)"
      ],
      "metadata": {
        "colab": {
          "base_uri": "https://localhost:8080/"
        },
        "id": "fb7VUgdIWJ5V",
        "outputId": "ce8aa712-b6d4-472d-9680-105080bb30b6"
      },
      "execution_count": null,
      "outputs": [
        {
          "output_type": "stream",
          "name": "stdout",
          "text": [
            "Введите число:1\n",
            "Введите число:4\n",
            "Введите число:6\n",
            "Введите число:0\n",
            "11\n"
          ]
        }
      ]
    },
    {
      "cell_type": "code",
      "source": [
        "#присваиваем значeние переменным\n",
        "a = 0\n",
        "b = 0\n",
        "\n",
        "#пока истина выполнить условие\n",
        "while True:\n",
        "  a = int(input('Введите число:'))\n",
        "  if a == 0:\n",
        "    break\n",
        "  else:\n",
        "    b += a\n",
        "print(b)"
      ],
      "metadata": {
        "colab": {
          "base_uri": "https://localhost:8080/"
        },
        "id": "jd2KnwZWgUml",
        "outputId": "ca20388c-4c57-42b8-c19c-65ccd5e4a09f"
      },
      "execution_count": null,
      "outputs": [
        {
          "output_type": "stream",
          "name": "stdout",
          "text": [
            "Введите число:0\n",
            "0\n"
          ]
        }
      ]
    },
    {
      "cell_type": "markdown",
      "source": [
        "##Задание 3\n",
        "Мы делаем MVP dating-сервиса, и у нас есть список парней и девушек.\n",
        "Выдвигаем гипотезу: лучшие рекомендации мы получим, если просто отсортируем имена по алфавиту и познакомим людей с одинаковыми индексами после сортировки! Но мы не будем никого знакомить, если кто-то может остаться без пары:"
      ],
      "metadata": {
        "id": "SxyXcE2QhzMc"
      }
    },
    {
      "cell_type": "code",
      "source": [
        "#список \n",
        "boys = ['Peter', 'Alex', 'John', 'Arthur', 'Richard']\n",
        "girls = ['Kate', 'Liza', 'Kira', 'Emma', 'Trisha']\n",
        "\n",
        "\n",
        "#условие если не равно\n",
        "if len(boys) != len(girls):\n",
        "  print('Внимание, кто-то может остаться без пары!')\n",
        "else:\n",
        "  print('Идеальные пары:')\n",
        "  for boys, girls in zip(sorted(boys), sorted(girls)):\n",
        "\n",
        "#вывести список сопоставлений\n",
        "    print(f\" {boys} и {girls}\")"
      ],
      "metadata": {
        "colab": {
          "base_uri": "https://localhost:8080/"
        },
        "id": "jJbuNklpiEBg",
        "outputId": "b3259df2-5026-40fd-d29d-42179c3933c9"
      },
      "execution_count": null,
      "outputs": [
        {
          "output_type": "stream",
          "name": "stdout",
          "text": [
            "Идеальные пары:\n",
            " Alex и Emma\n",
            " Arthur и Kate\n",
            " John и Kira\n",
            " Peter и Liza\n",
            " Richard и Trisha\n"
          ]
        }
      ]
    },
    {
      "cell_type": "code",
      "source": [
        "#список \n",
        "boys = ['Peter', 'Alex', 'John', 'Arthur', 'Richard', 'Michael']\n",
        "girls = ['Kate', 'Liza', 'Kira', 'Emma', 'Trisha']\n",
        "\n",
        "#условие если не равно\n",
        "if len(boys) != len(girls):\n",
        "  print('Внимание, кто-то может остаться без пары!')\n",
        "else:\n",
        "  print('Идеальные пары:')\n",
        "  for boys, girls in zip(sorted(boys), sorted(girls)):\n",
        "\n",
        "#вывести список сопоставлений\n",
        "    print(f\" {boys} и {girls}\")"
      ],
      "metadata": {
        "colab": {
          "base_uri": "https://localhost:8080/"
        },
        "id": "a_XQKC1Y1WVy",
        "outputId": "f9a3bdd0-f0d7-4321-92f4-ae655a4a67a1"
      },
      "execution_count": null,
      "outputs": [
        {
          "output_type": "stream",
          "name": "stdout",
          "text": [
            "Внимание, кто-то может остаться без пары!\n"
          ]
        }
      ]
    },
    {
      "cell_type": "markdown",
      "source": [
        "##Задание 4\n",
        "У нас есть список, содержащий информацию о среднедневной температуре в Фаренгейтах за произвольный период по странам (структура данных в примере). Необходимо написать код, который рассчитает среднюю температуру за период в Цельсиях(!) для каждой страны."
      ],
      "metadata": {
        "id": "ChzeeLMz1am5"
      }
    },
    {
      "cell_type": "code",
      "source": [
        "#cписок\n",
        "countries_temperature = [\n",
        "    ['Thailand', [75.2, 77, 78.8, 73.4, 68, 75.2, 77]],\n",
        "    ['Germany', [57.2, 55.4, 59, 59, 53.6]],\n",
        "    ['Russia', [35.6, 37.4, 39.2, 41, 42.8, 39.2, 35.6]],\n",
        "    ['Poland', [50, 50, 53.6, 57.2, 55.4, 55.4]]\n",
        "]\n",
        "\n",
        "print(\"Температура такая\")\n",
        "for i in countries_temperature:\n",
        "        print(i[0], '-', round((sum(i[1]) / len(i[1]) - 32) / 1.8, 1), 'C')"
      ],
      "metadata": {
        "colab": {
          "base_uri": "https://localhost:8080/"
        },
        "id": "pRIefe7n1ifS",
        "outputId": "e0d993ac-ba4e-4894-dd6b-ed7f31d79376"
      },
      "execution_count": null,
      "outputs": [
        {
          "output_type": "stream",
          "name": "stdout",
          "text": [
            "Температура такая\n",
            "Thailand - 23.9 C\n",
            "Germany - 13.8 C\n",
            "Russia - 3.7 C\n",
            "Poland - 12.0 C\n"
          ]
        }
      ]
    },
    {
      "cell_type": "markdown",
      "source": [
        "##Задание 5 (необязательное)\n",
        "Дан поток логов по количеству просмотренных страниц для каждого пользователя. Вам необходимо написать алгоритм, который считает среднее значение просмотров на пользователя. Т. е. надо посчитать отношение суммы всех просмотров к количеству уникальных пользователей."
      ],
      "metadata": {
        "id": "XEv8P1kBKtOy"
      }
    },
    {
      "cell_type": "code",
      "source": [
        "#список\n",
        "stream = [\n",
        "    '2018-01-01,user1,3',\n",
        "    '2018-01-07,user1,4',\n",
        "    '2018-03-29,user1,1',\n",
        "    '2018-04-04,user1,13',\n",
        "    '2018-01-05,user2,7',\n",
        "    '2018-06-14,user3,4',\n",
        "    '2018-07-02,user3,10',\n",
        "    '2018-03-21,user4,19',\n",
        "    '2018-03-22,user4,4',\n",
        "    '2018-04-22,user4,8',\n",
        "    '2018-05-03,user4,9',\n",
        "    '2018-05-11,user4,11',\n",
        "]\n",
        "\n",
        "#создаем справочник\n",
        "user = []\n",
        "\n",
        "#переменные для записи данных\n",
        "u = 0\n",
        "\n",
        "for i in stream:\n",
        "  x=i.split(',')\n",
        "  if x[1] not in user:\n",
        "    user.append(x[1])\n",
        "  u += int(x[2])\n",
        "       \n",
        "print(f'Среднее количество просмотров на уникального пользователя:{round(u/len(user),2)}')"
      ],
      "metadata": {
        "colab": {
          "base_uri": "https://localhost:8080/"
        },
        "id": "SR_GzDeiLS8R",
        "outputId": "bd157b20-f048-40a1-a6af-22bc10e8c320"
      },
      "execution_count": null,
      "outputs": [
        {
          "output_type": "stream",
          "name": "stdout",
          "text": [
            "Среднее количество просмотров на уникального пользователя:23.25\n"
          ]
        }
      ]
    },
    {
      "cell_type": "code",
      "source": [
        "#список\n",
        "stream = [\n",
        "    '2018-01-01,user100,150',\n",
        "    '2018-01-07,user99,205',\n",
        "    '2018-03-29,user1001,81'\n",
        "]\n",
        "\n",
        "#создаем справочник\n",
        "user = []\n",
        "\n",
        "#переменные для записи данных\n",
        "u = 0\n",
        "\n",
        "for i in stream:\n",
        "  x=i.split(',')\n",
        "  if x[1] not in user:\n",
        "    user.append(x[1])\n",
        "  u += int(x[2])\n",
        "\n",
        "print(f'Среднее количество просмотров на уникального пользователя:{round(u/len(user),2)}')"
      ],
      "metadata": {
        "colab": {
          "base_uri": "https://localhost:8080/"
        },
        "id": "cwl0sjJgnyY0",
        "outputId": "a8f17c03-85d8-4412-b7aa-cdda8fcf71f9"
      },
      "execution_count": null,
      "outputs": [
        {
          "output_type": "stream",
          "name": "stdout",
          "text": [
            "Среднее количество просмотров на уникального пользователя:145.33\n"
          ]
        }
      ]
    },
    {
      "cell_type": "markdown",
      "source": [
        "##Задание 6 (необязательное)\n",
        "Необходимо у пользователя запрашивать набор чисел разделенных пробелом. В результате в отсортированном порядке должны выводиться числа, которые повторяются в вводе более одного раза."
      ],
      "metadata": {
        "id": "4T1xpKEy5Vm0"
      }
    },
    {
      "cell_type": "code",
      "source": [
        "#ввод данных\n",
        "a = [int(i) for i in input(\"Введите набор чисел, которые разделенныы пробелом:\").split()]\n",
        "x = []\n",
        "\n",
        "for i in a:\n",
        "#в a >1 и нет в списке x, если ок добавить в список и сортирнуть его\n",
        "    while a.count(i) > 1 and i not in x:\n",
        "        x.append(i)\n",
        "        x.sort()\n",
        "#вывести список через пробел\n",
        "print(*x, sep = \" \")"
      ],
      "metadata": {
        "colab": {
          "base_uri": "https://localhost:8080/"
        },
        "id": "Gs98GlZ2Ic0B",
        "outputId": "bdffa343-c2fa-459c-b18c-1b01d12fa06e"
      },
      "execution_count": null,
      "outputs": [
        {
          "output_type": "stream",
          "name": "stdout",
          "text": [
            "Введите набор чисел, которые разделенныы пробелом:4 8 0 3 4 2 0 3\n",
            "0 3 4\n"
          ]
        }
      ]
    },
    {
      "cell_type": "code",
      "source": [
        "#ввод данных\n",
        "a = [int(i) for i in input(\"Введите набор чисел, которые разделенныы пробелом:\").split()]\n",
        "x = []\n",
        "\n",
        "for i in a:\n",
        "#в a >1 и нет в списке x, если ок добавить в список и сортирнуть его\n",
        "    while a.count(i) > 1 and i not in x:\n",
        "        x.append(i)\n",
        "        x.sort()\n",
        "#вывести список через пробел\n",
        "print(*x, sep = \" \")"
      ],
      "metadata": {
        "colab": {
          "base_uri": "https://localhost:8080/"
        },
        "id": "RzB8VvWmSFGb",
        "outputId": "3b552719-5cbc-4773-ae41-5e92d3561108"
      },
      "execution_count": null,
      "outputs": [
        {
          "output_type": "stream",
          "name": "stdout",
          "text": [
            "Введите набор чисел, которые разделенныы пробелом:1 1 2 2 3 3\n",
            "1 2 3\n"
          ]
        }
      ]
    },
    {
      "cell_type": "code",
      "source": [
        "#ввод данных\n",
        "a = [int(i) for i in input(\"Введите набор чисел, которые разделенныы пробелом:\").split()]\n",
        "x = []\n",
        "\n",
        "for i in a:\n",
        "#в a >1 и нет в списке x, если ок добавить в список и сортирнуть его\n",
        "    while a.count(i) > 1 and i not in x:\n",
        "        x.append(i)\n",
        "        x.sort()\n",
        "#вывести список через пробел\n",
        "print(*x, sep = \" \")"
      ],
      "metadata": {
        "colab": {
          "base_uri": "https://localhost:8080/"
        },
        "id": "AmB9lc3JSFyq",
        "outputId": "f863b311-2cd9-42b7-d785-750cad7a9c25"
      },
      "execution_count": null,
      "outputs": [
        {
          "output_type": "stream",
          "name": "stdout",
          "text": [
            "Введите набор чисел, которые разделенныы пробелом:10 15 15 103 200 200 200 1 1 1 1 1 2 2 2\n",
            "1 2 15 200\n"
          ]
        }
      ]
    }
  ]
}
