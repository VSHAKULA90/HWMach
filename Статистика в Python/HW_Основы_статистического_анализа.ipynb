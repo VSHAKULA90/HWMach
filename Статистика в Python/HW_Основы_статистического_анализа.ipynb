{
  "nbformat": 4,
  "nbformat_minor": 0,
  "metadata": {
    "colab": {
      "provenance": [],
      "collapsed_sections": []
    },
    "kernelspec": {
      "name": "python3",
      "display_name": "Python 3"
    },
    "language_info": {
      "name": "python"
    }
  },
  "cells": [
    {
      "cell_type": "code",
      "source": [
        "import math\n",
        "import scipy.stats as st\n",
        "import numpy as np\n",
        "import pandas as pd\n",
        "import matplotlib.pyplot as plt"
      ],
      "metadata": {
        "id": "gLMr04bxgUPQ"
      },
      "execution_count": null,
      "outputs": []
    },
    {
      "cell_type": "markdown",
      "source": [
        "Задание № 0\n",
        "Найдите минимально необходимый объем выборки для построения интервальной оценки среднего.\n",
        "\n",
        "желаемая точность Δ = 3;\n",
        "дисперсия σ2 = 225;\n",
        "уровень доверия β = 0.95.\n",
        "Ответ округлите до целого"
      ],
      "metadata": {
        "id": "sOfh_Jh9WM3U"
      }
    },
    {
      "cell_type": "code",
      "source": [
        "accuracy = 3\n",
        "std = 15\n",
        "z = st.norm.ppf(0.95)\n",
        "n = round(((z * std) / accuracy) ** 2)\n",
        "n"
      ],
      "metadata": {
        "colab": {
          "base_uri": "https://localhost:8080/"
        },
        "id": "EmnyVc5YWbOe",
        "outputId": "9ad7084e-4c09-4c07-eb8c-ba09b94da6db"
      },
      "execution_count": null,
      "outputs": [
        {
          "output_type": "execute_result",
          "data": {
            "text/plain": [
              "68"
            ]
          },
          "metadata": {},
          "execution_count": 2
        }
      ]
    },
    {
      "cell_type": "markdown",
      "source": [
        "Задание № 1\n",
        "Постройте 98 % доверительный интервал для среднего значения, если известно, что\n",
        "\n",
        "объем выборки n = 25;\n",
        "среднее значение по выборке \n",
        " \n",
        " = 130;\n",
        "Из достоверных источников известно стандартное отклонение σ=15 .\n",
        "В ответ укажите длину полученного доверительного интервала (разницу между правым и левым концом), окруленную до целого"
      ],
      "metadata": {
        "id": "5ttfZJl6Wgb0"
      }
    },
    {
      "cell_type": "code",
      "source": [
        "n = 25\n",
        "x = 130\n",
        "std = 15\n",
        "disp = 0.02\n",
        "z = st.norm.ppf(0.98)\n",
        "\n",
        "accuracy = (std / math.sqrt(n)) * z\n",
        "CI_left = 130 - accuracy\n",
        "CI_right = 130 + accuracy\n",
        "\n",
        "L = round(CI_right - CI_left)\n",
        "\n",
        "L"
      ],
      "metadata": {
        "colab": {
          "base_uri": "https://localhost:8080/"
        },
        "id": "OslnFYB0WhrL",
        "outputId": "0dd17f27-8120-460f-9f8d-43d3dfbeaf39"
      },
      "execution_count": null,
      "outputs": [
        {
          "output_type": "execute_result",
          "data": {
            "text/plain": [
              "12"
            ]
          },
          "metadata": {},
          "execution_count": 3
        }
      ]
    },
    {
      "cell_type": "markdown",
      "source": [
        "Задание № 2\n",
        "Даны две выборки роста мужчин и женщин.\n",
        "\n",
        "докажите, используя t-тест Стьюдента, что различие между выборками незначительно, если уровень значимости равен α = 0.001.\n",
        "покажите различия визуально"
      ],
      "metadata": {
        "id": "JqLXwPlsWvKG"
      }
    },
    {
      "cell_type": "code",
      "source": [
        "import scipy.stats as stats\n",
        "np.random.seed(42) #фиксация случайности\n",
        "\n",
        "men  = st.norm.rvs(loc = 171, scale = 100, size = 150000)  # Выборка мужчин со средним ростом 171\n",
        "women = st.norm.rvs(loc = 170, scale = 100, size = 150000)  # Выборка женщин со средним ростом 170\n",
        "#В двух строчках выше генерируется две выбороки, где loc это среднее значение, а scale это дисперсия\n",
        "α = 0.001\n",
        "t, p = st.ttest_ind(men, women)\n",
        "\n",
        "print(t)\n",
        "\n",
        "if p < α:\n",
        "  print('Различия незначительны')\n",
        "else:\n",
        "  print('Различия значительны')"
      ],
      "metadata": {
        "colab": {
          "base_uri": "https://localhost:8080/"
        },
        "id": "XbZFDsViXQ9A",
        "outputId": "a70f8108-12c9-4f1d-d5d6-530db4c297aa"
      },
      "execution_count": null,
      "outputs": [
        {
          "output_type": "stream",
          "name": "stdout",
          "text": [
            "3.6635841716708892\n",
            "Различия незначительны\n"
          ]
        }
      ]
    },
    {
      "cell_type": "code",
      "source": [
        "plt.hist(men)\n",
        "plt.hist(women)"
      ],
      "metadata": {
        "colab": {
          "base_uri": "https://localhost:8080/",
          "height": 376
        },
        "id": "HzrnvTneXUeP",
        "outputId": "e7dca734-dc73-490c-deb0-6f6cab0794bb"
      },
      "execution_count": null,
      "outputs": [
        {
          "output_type": "execute_result",
          "data": {
            "text/plain": [
              "(array([3.4000e+01, 5.5200e+02, 4.5280e+03, 2.0073e+04, 4.4250e+04,\n",
              "        4.7373e+04, 2.5465e+04, 6.7820e+03, 8.9200e+02, 5.1000e+01]),\n",
              " array([-271.38859664, -185.05607354,  -98.72355044,  -12.39102734,\n",
              "          73.94149577,  160.27401887,  246.60654197,  332.93906507,\n",
              "         419.27158817,  505.60411128,  591.93663438]),\n",
              " <a list of 10 Patch objects>)"
            ]
          },
          "metadata": {},
          "execution_count": 16
        },
        {
          "output_type": "display_data",
          "data": {
            "text/plain": [
              "<Figure size 432x288 with 1 Axes>"
            ],
            "image/png": "[encoded data removed]"
          },
          "metadata": {
            "needs_background": "light"
          }
        }
      ]
    },
    {
      "cell_type": "markdown",
      "source": [
        "Задание № 3\n",
        "Определите объем необходимой выборки для исследования среднего чека за кофе в случайном городе если известно, что в этом городе:\n",
        "\n",
        "стандартное отклонение σ=150 ;\n",
        "уровень доверия β = 95%;\n",
        "погрешность Δ=50 рублей."
      ],
      "metadata": {
        "id": "vkFmCegCXtJy"
      }
    },
    {
      "cell_type": "code",
      "source": [
        "std = 150\n",
        "CI = 0.95\n",
        "accuracy = 50\n",
        "z = st.norm.ppf(CI)\n",
        "\n",
        "n = round(((z * std) / accuracy) ** 2)\n",
        "\n",
        "n"
      ],
      "metadata": {
        "colab": {
          "base_uri": "https://localhost:8080/"
        },
        "id": "FbEItaS4Xv3W",
        "outputId": "f55a3d86-fe58-4d7d-fbcc-d8c26b1dced4"
      },
      "execution_count": null,
      "outputs": [
        {
          "output_type": "execute_result",
          "data": {
            "text/plain": [
              "24"
            ]
          },
          "metadata": {},
          "execution_count": 17
        }
      ]
    },
    {
      "cell_type": "markdown",
      "source": [
        "Задание № 4\n",
        "Представьте, что вы хотите разоблачить \"волшебника\" который считает, что умеет предсказывать погоду на завтра, отвечая просто: дождь или солнце. Вы пронаблюдали за ответами \"волшебника\" в течении какого-то периода времени и получили некие результаты (см.ниже).\n",
        "\n",
        "Можно ли сказать, что маг действительно умеет предсказывать погоду? Уровень значимости принять за 0.05 ( α=0.05 )."
      ],
      "metadata": {
        "id": "EpYT_uv9X-nc"
      }
    },
    {
      "cell_type": "code",
      "source": [
        "observations = pd.DataFrame([[10, 15],[39, 34]],\n",
        "                            index=['Дождь','Солнце'],\n",
        "                            columns=['Верные ответы волшебника','Неверные ответы'])\n",
        "observations"
      ],
      "metadata": {
        "colab": {
          "base_uri": "https://localhost:8080/",
          "height": 112
        },
        "id": "e22sob7fYAiy",
        "outputId": "b21ff73f-b053-45a9-c6ba-6224ee74a2c2"
      },
      "execution_count": null,
      "outputs": [
        {
          "output_type": "execute_result",
          "data": {
            "text/plain": [
              "        Верные ответы волшебника  Неверные ответы\n",
              "Дождь                         10               15\n",
              "Солнце                        39               34"
            ],
            "text/html": [
              "\n",
              "  <div id=\"df-b8c633e7-fe7f-4b76-925b-b2fc6a5d964d\">\n",
              "    <div class=\"colab-df-container\">\n",
              "      <div>\n",
              "<style scoped>\n",
              "    .dataframe tbody tr th:only-of-type {\n",
              "        vertical-align: middle;\n",
              "    }\n",
              "\n",
              "    .dataframe tbody tr th {\n",
              "        vertical-align: top;\n",
              "    }\n",
              "\n",
              "    .dataframe thead th {\n",
              "        text-align: right;\n",
              "    }\n",
              "</style>\n",
              "<table border=\"1\" class=\"dataframe\">\n",
              "  <thead>\n",
              "    <tr style=\"text-align: right;\">\n",
              "      <th></th>\n",
              "      <th>Верные ответы волшебника</th>\n",
              "      <th>Неверные ответы</th>\n",
              "    </tr>\n",
              "  </thead>\n",
              "  <tbody>\n",
              "    <tr>\n",
              "      <th>Дождь</th>\n",
              "      <td>10</td>\n",
              "      <td>15</td>\n",
              "    </tr>\n",
              "    <tr>\n",
              "      <th>Солнце</th>\n",
              "      <td>39</td>\n",
              "      <td>34</td>\n",
              "    </tr>\n",
              "  </tbody>\n",
              "</table>\n",
              "</div>\n",
              "      <button class=\"colab-df-convert\" onclick=\"convertToInteractive('df-b8c633e7-fe7f-4b76-925b-b2fc6a5d964d')\"\n",
              "              title=\"Convert this dataframe to an interactive table.\"\n",
              "              style=\"display:none;\">\n",
              "        \n",
              "  <svg xmlns=\"http://www.w3.org/2000/svg\" height=\"24px\"viewBox=\"0 0 24 24\"\n",
              "       width=\"24px\">\n",
              "    <path d=\"M0 0h24v24H0V0z\" fill=\"none\"/>\n",
              "    <path d=\"M18.56 5.44l.94 2.06.94-2.06 2.06-.94-2.06-.94-.94-2.06-.94 2.06-2.06.94zm-11 1L8.5 8.5l.94-2.06 2.06-.94-2.06-.94L8.5 2.5l-.94 2.06-2.06.94zm10 10l.94 2.06.94-2.06 2.06-.94-2.06-.94-.94-2.06-.94 2.06-2.06.94z\"/><path d=\"M17.41 7.96l-1.37-1.37c-.4-.4-.92-.59-1.43-.59-.52 0-1.04.2-1.43.59L10.3 9.45l-7.72 7.72c-.78.78-.78 2.05 0 2.83L4 21.41c.39.39.9.59 1.41.59.51 0 1.02-.2 1.41-.59l7.78-7.78 2.81-2.81c.8-.78.8-2.07 0-2.86zM5.41 20L4 18.59l7.72-7.72 1.47 1.35L5.41 20z\"/>\n",
              "  </svg>\n",
              "      </button>\n",
              "      \n",
              "  <style>\n",
              "    .colab-df-container {\n",
              "      display:flex;\n",
              "      flex-wrap:wrap;\n",
              "      gap: 12px;\n",
              "    }\n",
              "\n",
              "    .colab-df-convert {\n",
              "      background-color: #E8F0FE;\n",
              "      border: none;\n",
              "      border-radius: 50%;\n",
              "      cursor: pointer;\n",
              "      display: none;\n",
              "      fill: #1967D2;\n",
              "      height: 32px;\n",
              "      padding: 0 0 0 0;\n",
              "      width: 32px;\n",
              "    }\n",
              "\n",
              "    .colab-df-convert:hover {\n",
              "      background-color: #E2EBFA;\n",
              "      box-shadow: 0px 1px 2px rgba(60, 64, 67, 0.3), 0px 1px 3px 1px rgba(60, 64, 67, 0.15);\n",
              "      fill: #174EA6;\n",
              "    }\n",
              "\n",
              "    [theme=dark] .colab-df-convert {\n",
              "      background-color: #3B4455;\n",
              "      fill: #D2E3FC;\n",
              "    }\n",
              "\n",
              "    [theme=dark] .colab-df-convert:hover {\n",
              "      background-color: #434B5C;\n",
              "      box-shadow: 0px 1px 3px 1px rgba(0, 0, 0, 0.15);\n",
              "      filter: drop-shadow(0px 1px 2px rgba(0, 0, 0, 0.3));\n",
              "      fill: #FFFFFF;\n",
              "    }\n",
              "  </style>\n",
              "\n",
              "      <script>\n",
              "        const buttonEl =\n",
              "          document.querySelector('#df-b8c633e7-fe7f-4b76-925b-b2fc6a5d964d button.colab-df-convert');\n",
              "        buttonEl.style.display =\n",
              "          google.colab.kernel.accessAllowed ? 'block' : 'none';\n",
              "\n",
              "        async function convertToInteractive(key) {\n",
              "          const element = document.querySelector('#df-b8c633e7-fe7f-4b76-925b-b2fc6a5d964d');\n",
              "          const dataTable =\n",
              "            await google.colab.kernel.invokeFunction('convertToInteractive',\n",
              "                                                     [key], {});\n",
              "          if (!dataTable) return;\n",
              "\n",
              "          const docLinkHtml = 'Like what you see? Visit the ' +\n",
              "            '<a target=\"_blank\" href=https://colab.research.google.com/notebooks/data_table.ipynb>data table notebook</a>'\n",
              "            + ' to learn more about interactive tables.';\n",
              "          element.innerHTML = '';\n",
              "          dataTable['output_type'] = 'display_data';\n",
              "          await google.colab.output.renderOutput(dataTable, element);\n",
              "          const docLink = document.createElement('div');\n",
              "          docLink.innerHTML = docLinkHtml;\n",
              "          element.appendChild(docLink);\n",
              "        }\n",
              "      </script>\n",
              "    </div>\n",
              "  </div>\n",
              "  "
            ]
          },
          "metadata": {},
          "execution_count": 18
        }
      ]
    },
    {
      "cell_type": "code",
      "source": [
        "import scipy.stats as stats\n",
        "α = 0.05\n",
        "oddsratio, pvalue = st.fisher_exact([[10, 15],[39, 34]])\n",
        "\n",
        "\n",
        "if pvalue < α:\n",
        "  print('Волшебник') \n",
        "else:\n",
        "  print('Так себе предсказатель') "
      ],
      "metadata": {
        "colab": {
          "base_uri": "https://localhost:8080/"
        },
        "id": "apNt8kaEYD3v",
        "outputId": "9f2fda59-f0a4-4476-da44-bd301633855c"
      },
      "execution_count": null,
      "outputs": [
        {
          "output_type": "stream",
          "name": "stdout",
          "text": [
            "Так себе предсказатель\n"
          ]
        }
      ]
    },
    {
      "cell_type": "markdown",
      "source": [
        "Задание № 5\n",
        "Используя функцию mean_confidence_interval(data, confidence), постройте доверительный интервал с уровнем доверия β=90% для выборки:"
      ],
      "metadata": {
        "id": "01rikCaTYN7r"
      }
    },
    {
      "cell_type": "code",
      "source": [
        "data = [4,5,8,9,6,7,5,6,7,8,5,6,7,0,9,8,4,6,\n",
        "        7,9,8,6,5,7,8,9,6,7,5,8,6,7,9,5,10]\n",
        "\n",
        "def mean_confidence_interval(data, confidence = 0.90):\n",
        "    n = len(data)\n",
        "    x, sem = np.mean(data), st.sem(data)\n",
        "    accuracy = sem * st.t.ppf((1 + confidence) / 2, n-1)\n",
        "    return x - accuracy, x + accuracy\n",
        "\n",
        "mean_confidence_interval(data, confidence = 0.90)"
      ],
      "metadata": {
        "colab": {
          "base_uri": "https://localhost:8080/"
        },
        "id": "ngTTqgzcYQMp",
        "outputId": "e4b95f07-bca0-46c4-8187-c5057f1659d2"
      },
      "execution_count": null,
      "outputs": [
        {
          "output_type": "execute_result",
          "data": {
            "text/plain": [
              "(6.07363110319857, 7.183511753944288)"
            ]
          },
          "metadata": {},
          "execution_count": 21
        }
      ]
    },
    {
      "cell_type": "markdown",
      "source": [
        "Задание № 6\n",
        "Принадлежат ли выборки A и B одному множеству?\n",
        "\n",
        "оцените это с помощью известных вам тестов для проверок статистических гипотез;\n",
        "покажите различия визуально."
      ],
      "metadata": {
        "id": "24ZTVHMIYUPz"
      }
    },
    {
      "cell_type": "code",
      "source": [
        "A = [4,5,8,9,6,7,5,6,7,6,8,5,6,7,8,4,\n",
        "    6,7,9,8,6,5,7,8,6,7,5,6,8,6,7,5,\n",
        "    4,5,8,9,6,7,5,6,7,6,8,5,6,7,8,4,\n",
        "    6,7,9,8,6,5,7,8,6,7,5,6,8,6,7,5,\n",
        "    4,5,8,9,6,7,5,6,7,6,8,5,6,7,8,4,\n",
        "    6,7,9,8,6,5,7,8,6,7,5,6,8,6,7,5,\n",
        "    4,5,8,9,6,7,5,6,7,6,8,5,6,7,8,4]\n",
        "\n",
        "B = [5,6,7,8,4,6,7,2,6,5,7,5,3,5,3,\n",
        "    5,3,5,5,8,7,6,4,5,3,5,4,6,4,5,3,\n",
        "    2,6,4,3,5,4,3,4,5,4,3,4,5,4,3,4,\n",
        "    2,6,4,3,5,4,3,4,5,4,3,4,5,4,3,4,\n",
        "    3,4,4,1,2,4,3,2,4,3,2,1,5,3,4,6,\n",
        "    3,2,4,5,6,4,3,3,5,3,4,4,4,2,5,3]\n",
        " \n",
        "α = 0.05\n",
        "t, p = st.ttest_ind(A, B)\n",
        "\n",
        "if pvalue < α:\n",
        "  print('Выборки принадлежат одному множеству')\n",
        "else:\n",
        "  print('Выборки не принадлежат одному множеству')"
      ],
      "metadata": {
        "colab": {
          "base_uri": "https://localhost:8080/"
        },
        "id": "YyY-ggR8YX7R",
        "outputId": "351dc87a-ee68-4686-d8ce-ffbceb28b3be"
      },
      "execution_count": null,
      "outputs": [
        {
          "output_type": "stream",
          "name": "stdout",
          "text": [
            "Выборки не принадлежат одному множеству\n"
          ]
        }
      ]
    },
    {
      "cell_type": "code",
      "source": [
        "plt.hist(A)\n",
        "plt.hist(B)"
      ],
      "metadata": {
        "colab": {
          "base_uri": "https://localhost:8080/",
          "height": 320
        },
        "id": "8aDUxlZOcxfC",
        "outputId": "7d1fc6be-67ad-4c42-b4b6-11e0885d8288"
      },
      "execution_count": null,
      "outputs": [
        {
          "output_type": "execute_result",
          "data": {
            "text/plain": [
              "(array([ 2.,  8., 22.,  0., 28., 20.,  0.,  9.,  4.,  2.]),\n",
              " array([1. , 1.7, 2.4, 3.1, 3.8, 4.5, 5.2, 5.9, 6.6, 7.3, 8. ]),\n",
              " <a list of 10 Patch objects>)"
            ]
          },
          "metadata": {},
          "execution_count": 23
        },
        {
          "output_type": "display_data",
          "data": {
            "text/plain": [
              "<Figure size 432x288 with 1 Axes>"
            ],
            "image/png": "[encoded data removed]"
          },
          "metadata": {
            "needs_background": "light"
          }
        }
      ]
    },
    {
      "cell_type": "markdown",
      "source": [
        "Задание № 7 (задание без подвоха)\n",
        "На примере датасета про жилье в New York City, мы сталкивались с примером, когда переменная имеет не совсем нормальное распределение.\n",
        "\n",
        "Предположим, Вы сформировали две гипотезы:\n",
        "\n",
        "нулевая гипотеза - распределение нормальное;\n",
        "альтернативная гипотеза - распределение ненормальное.\n",
        "Допустим, вы применили какой-то тест (сейчас неважно какой), который показал уровень значимости p-value = 0.03.\n",
        "\n",
        "Каковы будут ваши выводы?\n",
        "\n",
        "Будем считать, что у нас нормальное распределение или все-таки нет?"
      ],
      "metadata": {
        "id": "q73dW0eMctc0"
      }
    },
    {
      "cell_type": "code",
      "source": [
        "#требуется только вывод\n",
        "# не понял, мало данных"
      ],
      "metadata": {
        "id": "HmymHt20c5df"
      },
      "execution_count": null,
      "outputs": []
    },
    {
      "cell_type": "markdown",
      "source": [
        "Задание № 8\n",
        "Первая выборка — это пациенты, которых лечили препаратом А. Вторая выборка — пациенты, которых лечили препаратом B.\n",
        "\n",
        "Значения в выборках — это некоторая характеристика эффективности лечения (уровень метаболита в крови, температура через три дня после начала лечения, срок выздоровления, число койко-дней, и т.д.)\n",
        "\n",
        "Требуется выяснить, имеется ли значимое различие эффективности препаратов А и B, или различия являются чисто случайными и объясняются «естественной» дисперсией выбранной характеристики. (уровень значимости принять за 0.05 (5%))\n",
        "\n",
        "при каком минимальном p-value различия были бы уже значимы?\n",
        "если выборки незначительно отличаются, то продемонстрируйте это визуально."
      ],
      "metadata": {
        "id": "3k1tO_ncc7nl"
      }
    },
    {
      "cell_type": "code",
      "source": [
        "np.random.seed(11)\n",
        "A = st.norm.rvs(scale=15, loc=169, size=300)\n",
        "B = st.norm.rvs(scale=14, loc=171.4, size=300)\n",
        "\n",
        "α = 0.05\n",
        "stat, p = st.ttest_ind(A, B, equal_var=False) \n",
        "print(p)\n",
        "\n",
        "if p < α:\n",
        "  print('имеется значимое различие эффективности препаратов')\n",
        "else:\n",
        "  print('различий нет')"
      ],
      "metadata": {
        "colab": {
          "base_uri": "https://localhost:8080/"
        },
        "id": "APqjJSRXdR29",
        "outputId": "9efa261f-6a44-4ae9-e194-8f52ddecaf3f"
      },
      "execution_count": null,
      "outputs": [
        {
          "output_type": "stream",
          "name": "stdout",
          "text": [
            "0.051284961272800134\n",
            "различий нет\n"
          ]
        }
      ]
    },
    {
      "cell_type": "code",
      "source": [
        "plt.hist(A)\n",
        "plt.hist(B)"
      ],
      "metadata": {
        "colab": {
          "base_uri": "https://localhost:8080/",
          "height": 357
        },
        "id": "MPbIba3_dWYQ",
        "outputId": "33ab3ef2-77f1-448f-9cf2-217362a99965"
      },
      "execution_count": null,
      "outputs": [
        {
          "output_type": "execute_result",
          "data": {
            "text/plain": [
              "(array([ 1.,  3., 11., 29., 40., 76., 69., 38., 23., 10.]),\n",
              " array([122.95604119, 131.18964287, 139.42324455, 147.65684623,\n",
              "        155.89044792, 164.1240496 , 172.35765128, 180.59125296,\n",
              "        188.82485464, 197.05845633, 205.29205801]),\n",
              " <a list of 10 Patch objects>)"
            ]
          },
          "metadata": {},
          "execution_count": 28
        },
        {
          "output_type": "display_data",
          "data": {
            "text/plain": [
              "<Figure size 432x288 with 1 Axes>"
            ],
            "image/png": "[encoded data removed]"
          },
          "metadata": {
            "needs_background": "light"
          }
        }
      ]
    }
  ]
}
